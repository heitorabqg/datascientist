{
  "nbformat": 4,
  "nbformat_minor": 0,
  "metadata": {
    "colab": {
      "provenance": [],
      "authorship_tag": "ABX9TyNZUhl+lKYQWLfwVg6ID8Ml",
      "include_colab_link": true
    },
    "kernelspec": {
      "name": "python3",
      "display_name": "Python 3"
    },
    "language_info": {
      "name": "python"
    }
  },
  "cells": [
    {
      "cell_type": "markdown",
      "metadata": {
        "id": "view-in-github",
        "colab_type": "text"
      },
      "source": [
        "<a href=\"https://colab.research.google.com/github/heitorabqg/datascientist/blob/master/USPSisEletHAPSI5892Ex1.ipynb\" target=\"_parent\"><img src=\"https://colab.research.google.com/assets/colab-badge.svg\" alt=\"Open In Colab\"/></a>"
      ]
    },
    {
      "cell_type": "code",
      "execution_count": null,
      "metadata": {
        "id": "efN5aoQ9NL9Z"
      },
      "outputs": [],
      "source": [
        "# PSI5892 Fundamentos de Adaptacao e Aprendizado de Maquina\n",
        "# Exercıcio Computacional – Regressao linear multivariada\n",
        "# Aluno: Heitor Albuquerque\n",
        "\n",
        "\n",
        "# Parte 1 - Serie de Fourier da onda triangular\n",
        "\n",
        "\n",
        "import numpy as np\n",
        "import matplotlib.pyplot as plt\n",
        "\n",
        "def RL_Fourier_HA(t, y, K, w0):\n",
        "\n",
        "\tN = t.shape[0]\n",
        "\n",
        "\tX = np.zeros((N, 2*K+1))\n",
        "\n",
        "\tX[:, [0]] = np.ones((N, 1))\n",
        "\n",
        " # Metodo menos eficiente for dentro de for\n",
        "\n",
        " for auxColums in range (1, 2*K+1):\n",
        "    for auxRows in range (1,N+1):\n",
        "      X(auxRows, auxColumns+1) = np.cos(wo * auxColums * t(auxRows))**(auxColums%2) +\n",
        "        np.sin(wo * auxColums * t(auxRows))**((auxColums+1)%2)\n",
        "\n",
        "\n",
        "  R = X.T@X\n",
        "  p = X.T@d\n",
        "\n",
        "  v = np.linalg.solve(R, p)\n",
        "  e = d - X @ wo\n",
        "\n",
        "\n",
        " return X, v, e\n",
        "\n",
        "\n"
      ]
    }
  ]
}