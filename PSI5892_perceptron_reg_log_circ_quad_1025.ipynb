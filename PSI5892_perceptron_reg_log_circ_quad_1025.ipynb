{
  "cells": [
    {
      "cell_type": "markdown",
      "metadata": {
        "id": "view-in-github",
        "colab_type": "text"
      },
      "source": [
        "<a href=\"https://colab.research.google.com/github/heitorabqg/datascientist/blob/master/PSI5892_perceptron_reg_log_circ_quad_1025.ipynb\" target=\"_parent\"><img src=\"https://colab.research.google.com/assets/colab-badge.svg\" alt=\"Open In Colab\"/></a>"
      ]
    },
    {
      "cell_type": "markdown",
      "metadata": {
        "id": "yGgWYiVgDeed"
      },
      "source": [
        "Para abrir o notebook no Google Colab, altere o domínio `github.com` para `githubtocolab.com`"
      ]
    },
    {
      "cell_type": "markdown",
      "metadata": {
        "id": "122Z4m64birD"
      },
      "source": [
        "<div class=\"alert alert-block alert-danger\">\n",
        "Para praticar programação, é importante que você erre, leia as mensagens de erro e tente corrigí-los.\n",
        "    \n",
        "Dessa forma, no Google Colab, é importante que você DESATIVE OS RECURSOS DE AUTOCOMPLETAR:\n",
        "\n",
        "- Menu Ferramentas -> Configurações\n",
        "- Na janela que é aberta:\n",
        "  - Seção Editor -> Desativar \"Mostrar sugestões de preenchimento de código com base no contexto\"\n",
        "  - Seção Assistência de IA -> Desabilitar itens\n",
        "\n",
        "Na versão em inglês:\n",
        "\n",
        "- Menu Tools -> Settings\n",
        "- Na janela que é aberta:\n",
        "  - Seção Editor -> Desativar \"Show context-powered code completions\"\n",
        "  - Seção AI Assistance -> Desabilitar itens\n",
        "</div>"
      ]
    },
    {
      "cell_type": "markdown",
      "metadata": {
        "id": "8VXhRoEfeeVY"
      },
      "source": [
        "# PSI5892 - Aula de Exercícios\n",
        "\n",
        "# Perceptron de Rosenblatt e Regressão Logística 2"
      ]
    },
    {
      "cell_type": "markdown",
      "metadata": {
        "id": "OW7cXknSbirF"
      },
      "source": [
        "Um dos experimentos feitos com o perceptron de Rosenblatt consistia na classificação de caracteres. Um caractere era exposto na frente de uma matriz de sensores, que digitalizava a imagem e os elementos dessa matriz eram utilizados como entradas do perceptron, conforme mostrado na fotografia abaixo:\n",
        "\n",
        "<img src=\"https://github.com/psi5892/exercicios_aula_publico/blob/main/ex_aula_perceptron_rosenblatt_e_reg_logistica_2/Rosen_2.png?raw=1\" style=\"width: 500px; margin:auto\"/>\n",
        "\n",
        "A ideia consistia em alimentar diversos perceptrons com essas entradas, que funcionariam em paralelo, de forma independente uns dos outros. Cada um era treinado para classificar um determinado caractere, fornecendo saída igual a 1 no caso da detecção do caractere em questão ou -1, no caso da detecção de qualquer outro caractere. Assim, era possível obter uma estrutura com várias saídas, cada uma representando o reconhecimento de um determinado caractere.\n",
        "\n",
        "Neste exercício, você vai trabalhar em uma aplicação semelhante, porém simplificada: um classificador binário usando o perceptron de Rosenblatt para classificar imagens de círculos ou quadrados.\n",
        "\n",
        "Antes de começar a trabalhar no código, certifique-se de ter baixado o [arquivo CSV com os dados](./circles_and_squares.csv) do repositório de materiais.\n",
        "\n",
        "Para carregar o arquivo CSV e processar os dados, você pode usar a biblioteca [Pandas](https://pandas.pydata.org/). Após a instalação da biblioteca e o download do arquivo CSV, é possível carregar os dados com os seguintes comandos:"
      ]
    },
    {
      "cell_type": "code",
      "execution_count": 28,
      "metadata": {
        "id": "RkJPVZpqbirF"
      },
      "outputs": [],
      "source": [
        "import pandas as pd\n",
        "data_df = pd.read_csv(\"circles_and_squares.csv\")"
      ]
    },
    {
      "cell_type": "markdown",
      "metadata": {
        "id": "kwyOgJ3cbirH"
      },
      "source": [
        "Com esses comandos, você vai criar um *DataFrame* do Pandas chamado `data_df` contendo os dados do arquivo CSV. Para ver algumas linhas do *DataFrame*, você pode usar o método `.head()`:"
      ]
    },
    {
      "cell_type": "code",
      "execution_count": 29,
      "metadata": {
        "id": "SBGzvH0tbirI",
        "outputId": "ea268fd4-e20c-48bb-c423-2db143888083",
        "colab": {
          "base_uri": "https://localhost:8080/",
          "height": 236
        }
      },
      "outputs": [
        {
          "output_type": "execute_result",
          "data": {
            "text/plain": [
              "     0    1    2    3    4    5    6    7    8    9  ...  391  392  393  394  \\\n",
              "0  0.0  0.0  0.0  0.0  0.0  0.0  1.0  0.0  0.0  0.0  ...  0.0  0.0  0.0  0.0   \n",
              "1  0.0  0.0  0.0  0.0  0.0  0.0  0.0  0.0  0.0  0.0  ...  0.0  0.0  0.0  0.0   \n",
              "2  0.0  0.0  0.0  0.0  0.0  0.0  0.0  0.0  0.0  0.0  ...  0.0  0.0  0.0  0.0   \n",
              "3  0.0  0.0  0.0  0.0  0.0  0.0  0.0  0.0  0.0  0.0  ...  0.0  0.0  0.0  0.0   \n",
              "4  0.0  0.0  0.0  0.0  0.0  0.0  0.0  0.0  0.0  0.0  ...  0.0  0.0  0.0  0.0   \n",
              "\n",
              "   395  396  397  398  399  400  \n",
              "0  0.0  0.0  0.0  0.0  0.0 -1.0  \n",
              "1  0.0  0.0  0.0  0.0  0.0 -1.0  \n",
              "2  0.0  0.0  0.0  0.0  0.0 -1.0  \n",
              "3  0.0  0.0  0.0  0.0  0.0 -1.0  \n",
              "4  0.0  0.0  0.0  0.0  0.0  1.0  \n",
              "\n",
              "[5 rows x 401 columns]"
            ],
            "text/html": [
              "\n",
              "  <div id=\"df-811339d5-651e-4ba3-92a5-99742619a4b0\" class=\"colab-df-container\">\n",
              "    <div>\n",
              "<style scoped>\n",
              "    .dataframe tbody tr th:only-of-type {\n",
              "        vertical-align: middle;\n",
              "    }\n",
              "\n",
              "    .dataframe tbody tr th {\n",
              "        vertical-align: top;\n",
              "    }\n",
              "\n",
              "    .dataframe thead th {\n",
              "        text-align: right;\n",
              "    }\n",
              "</style>\n",
              "<table border=\"1\" class=\"dataframe\">\n",
              "  <thead>\n",
              "    <tr style=\"text-align: right;\">\n",
              "      <th></th>\n",
              "      <th>0</th>\n",
              "      <th>1</th>\n",
              "      <th>2</th>\n",
              "      <th>3</th>\n",
              "      <th>4</th>\n",
              "      <th>5</th>\n",
              "      <th>6</th>\n",
              "      <th>7</th>\n",
              "      <th>8</th>\n",
              "      <th>9</th>\n",
              "      <th>...</th>\n",
              "      <th>391</th>\n",
              "      <th>392</th>\n",
              "      <th>393</th>\n",
              "      <th>394</th>\n",
              "      <th>395</th>\n",
              "      <th>396</th>\n",
              "      <th>397</th>\n",
              "      <th>398</th>\n",
              "      <th>399</th>\n",
              "      <th>400</th>\n",
              "    </tr>\n",
              "  </thead>\n",
              "  <tbody>\n",
              "    <tr>\n",
              "      <th>0</th>\n",
              "      <td>0.0</td>\n",
              "      <td>0.0</td>\n",
              "      <td>0.0</td>\n",
              "      <td>0.0</td>\n",
              "      <td>0.0</td>\n",
              "      <td>0.0</td>\n",
              "      <td>1.0</td>\n",
              "      <td>0.0</td>\n",
              "      <td>0.0</td>\n",
              "      <td>0.0</td>\n",
              "      <td>...</td>\n",
              "      <td>0.0</td>\n",
              "      <td>0.0</td>\n",
              "      <td>0.0</td>\n",
              "      <td>0.0</td>\n",
              "      <td>0.0</td>\n",
              "      <td>0.0</td>\n",
              "      <td>0.0</td>\n",
              "      <td>0.0</td>\n",
              "      <td>0.0</td>\n",
              "      <td>-1.0</td>\n",
              "    </tr>\n",
              "    <tr>\n",
              "      <th>1</th>\n",
              "      <td>0.0</td>\n",
              "      <td>0.0</td>\n",
              "      <td>0.0</td>\n",
              "      <td>0.0</td>\n",
              "      <td>0.0</td>\n",
              "      <td>0.0</td>\n",
              "      <td>0.0</td>\n",
              "      <td>0.0</td>\n",
              "      <td>0.0</td>\n",
              "      <td>0.0</td>\n",
              "      <td>...</td>\n",
              "      <td>0.0</td>\n",
              "      <td>0.0</td>\n",
              "      <td>0.0</td>\n",
              "      <td>0.0</td>\n",
              "      <td>0.0</td>\n",
              "      <td>0.0</td>\n",
              "      <td>0.0</td>\n",
              "      <td>0.0</td>\n",
              "      <td>0.0</td>\n",
              "      <td>-1.0</td>\n",
              "    </tr>\n",
              "    <tr>\n",
              "      <th>2</th>\n",
              "      <td>0.0</td>\n",
              "      <td>0.0</td>\n",
              "      <td>0.0</td>\n",
              "      <td>0.0</td>\n",
              "      <td>0.0</td>\n",
              "      <td>0.0</td>\n",
              "      <td>0.0</td>\n",
              "      <td>0.0</td>\n",
              "      <td>0.0</td>\n",
              "      <td>0.0</td>\n",
              "      <td>...</td>\n",
              "      <td>0.0</td>\n",
              "      <td>0.0</td>\n",
              "      <td>0.0</td>\n",
              "      <td>0.0</td>\n",
              "      <td>0.0</td>\n",
              "      <td>0.0</td>\n",
              "      <td>0.0</td>\n",
              "      <td>0.0</td>\n",
              "      <td>0.0</td>\n",
              "      <td>-1.0</td>\n",
              "    </tr>\n",
              "    <tr>\n",
              "      <th>3</th>\n",
              "      <td>0.0</td>\n",
              "      <td>0.0</td>\n",
              "      <td>0.0</td>\n",
              "      <td>0.0</td>\n",
              "      <td>0.0</td>\n",
              "      <td>0.0</td>\n",
              "      <td>0.0</td>\n",
              "      <td>0.0</td>\n",
              "      <td>0.0</td>\n",
              "      <td>0.0</td>\n",
              "      <td>...</td>\n",
              "      <td>0.0</td>\n",
              "      <td>0.0</td>\n",
              "      <td>0.0</td>\n",
              "      <td>0.0</td>\n",
              "      <td>0.0</td>\n",
              "      <td>0.0</td>\n",
              "      <td>0.0</td>\n",
              "      <td>0.0</td>\n",
              "      <td>0.0</td>\n",
              "      <td>-1.0</td>\n",
              "    </tr>\n",
              "    <tr>\n",
              "      <th>4</th>\n",
              "      <td>0.0</td>\n",
              "      <td>0.0</td>\n",
              "      <td>0.0</td>\n",
              "      <td>0.0</td>\n",
              "      <td>0.0</td>\n",
              "      <td>0.0</td>\n",
              "      <td>0.0</td>\n",
              "      <td>0.0</td>\n",
              "      <td>0.0</td>\n",
              "      <td>0.0</td>\n",
              "      <td>...</td>\n",
              "      <td>0.0</td>\n",
              "      <td>0.0</td>\n",
              "      <td>0.0</td>\n",
              "      <td>0.0</td>\n",
              "      <td>0.0</td>\n",
              "      <td>0.0</td>\n",
              "      <td>0.0</td>\n",
              "      <td>0.0</td>\n",
              "      <td>0.0</td>\n",
              "      <td>1.0</td>\n",
              "    </tr>\n",
              "  </tbody>\n",
              "</table>\n",
              "<p>5 rows × 401 columns</p>\n",
              "</div>\n",
              "    <div class=\"colab-df-buttons\">\n",
              "\n",
              "  <div class=\"colab-df-container\">\n",
              "    <button class=\"colab-df-convert\" onclick=\"convertToInteractive('df-811339d5-651e-4ba3-92a5-99742619a4b0')\"\n",
              "            title=\"Convert this dataframe to an interactive table.\"\n",
              "            style=\"display:none;\">\n",
              "\n",
              "  <svg xmlns=\"http://www.w3.org/2000/svg\" height=\"24px\" viewBox=\"0 -960 960 960\">\n",
              "    <path d=\"M120-120v-720h720v720H120Zm60-500h600v-160H180v160Zm220 220h160v-160H400v160Zm0 220h160v-160H400v160ZM180-400h160v-160H180v160Zm440 0h160v-160H620v160ZM180-180h160v-160H180v160Zm440 0h160v-160H620v160Z\"/>\n",
              "  </svg>\n",
              "    </button>\n",
              "\n",
              "  <style>\n",
              "    .colab-df-container {\n",
              "      display:flex;\n",
              "      gap: 12px;\n",
              "    }\n",
              "\n",
              "    .colab-df-convert {\n",
              "      background-color: #E8F0FE;\n",
              "      border: none;\n",
              "      border-radius: 50%;\n",
              "      cursor: pointer;\n",
              "      display: none;\n",
              "      fill: #1967D2;\n",
              "      height: 32px;\n",
              "      padding: 0 0 0 0;\n",
              "      width: 32px;\n",
              "    }\n",
              "\n",
              "    .colab-df-convert:hover {\n",
              "      background-color: #E2EBFA;\n",
              "      box-shadow: 0px 1px 2px rgba(60, 64, 67, 0.3), 0px 1px 3px 1px rgba(60, 64, 67, 0.15);\n",
              "      fill: #174EA6;\n",
              "    }\n",
              "\n",
              "    .colab-df-buttons div {\n",
              "      margin-bottom: 4px;\n",
              "    }\n",
              "\n",
              "    [theme=dark] .colab-df-convert {\n",
              "      background-color: #3B4455;\n",
              "      fill: #D2E3FC;\n",
              "    }\n",
              "\n",
              "    [theme=dark] .colab-df-convert:hover {\n",
              "      background-color: #434B5C;\n",
              "      box-shadow: 0px 1px 3px 1px rgba(0, 0, 0, 0.15);\n",
              "      filter: drop-shadow(0px 1px 2px rgba(0, 0, 0, 0.3));\n",
              "      fill: #FFFFFF;\n",
              "    }\n",
              "  </style>\n",
              "\n",
              "    <script>\n",
              "      const buttonEl =\n",
              "        document.querySelector('#df-811339d5-651e-4ba3-92a5-99742619a4b0 button.colab-df-convert');\n",
              "      buttonEl.style.display =\n",
              "        google.colab.kernel.accessAllowed ? 'block' : 'none';\n",
              "\n",
              "      async function convertToInteractive(key) {\n",
              "        const element = document.querySelector('#df-811339d5-651e-4ba3-92a5-99742619a4b0');\n",
              "        const dataTable =\n",
              "          await google.colab.kernel.invokeFunction('convertToInteractive',\n",
              "                                                    [key], {});\n",
              "        if (!dataTable) return;\n",
              "\n",
              "        const docLinkHtml = 'Like what you see? Visit the ' +\n",
              "          '<a target=\"_blank\" href=https://colab.research.google.com/notebooks/data_table.ipynb>data table notebook</a>'\n",
              "          + ' to learn more about interactive tables.';\n",
              "        element.innerHTML = '';\n",
              "        dataTable['output_type'] = 'display_data';\n",
              "        await google.colab.output.renderOutput(dataTable, element);\n",
              "        const docLink = document.createElement('div');\n",
              "        docLink.innerHTML = docLinkHtml;\n",
              "        element.appendChild(docLink);\n",
              "      }\n",
              "    </script>\n",
              "  </div>\n",
              "\n",
              "\n",
              "    <div id=\"df-6c2a7444-af14-4acf-86e8-854c84a9b494\">\n",
              "      <button class=\"colab-df-quickchart\" onclick=\"quickchart('df-6c2a7444-af14-4acf-86e8-854c84a9b494')\"\n",
              "                title=\"Suggest charts\"\n",
              "                style=\"display:none;\">\n",
              "\n",
              "<svg xmlns=\"http://www.w3.org/2000/svg\" height=\"24px\"viewBox=\"0 0 24 24\"\n",
              "     width=\"24px\">\n",
              "    <g>\n",
              "        <path d=\"M19 3H5c-1.1 0-2 .9-2 2v14c0 1.1.9 2 2 2h14c1.1 0 2-.9 2-2V5c0-1.1-.9-2-2-2zM9 17H7v-7h2v7zm4 0h-2V7h2v10zm4 0h-2v-4h2v4z\"/>\n",
              "    </g>\n",
              "</svg>\n",
              "      </button>\n",
              "\n",
              "<style>\n",
              "  .colab-df-quickchart {\n",
              "      --bg-color: #E8F0FE;\n",
              "      --fill-color: #1967D2;\n",
              "      --hover-bg-color: #E2EBFA;\n",
              "      --hover-fill-color: #174EA6;\n",
              "      --disabled-fill-color: #AAA;\n",
              "      --disabled-bg-color: #DDD;\n",
              "  }\n",
              "\n",
              "  [theme=dark] .colab-df-quickchart {\n",
              "      --bg-color: #3B4455;\n",
              "      --fill-color: #D2E3FC;\n",
              "      --hover-bg-color: #434B5C;\n",
              "      --hover-fill-color: #FFFFFF;\n",
              "      --disabled-bg-color: #3B4455;\n",
              "      --disabled-fill-color: #666;\n",
              "  }\n",
              "\n",
              "  .colab-df-quickchart {\n",
              "    background-color: var(--bg-color);\n",
              "    border: none;\n",
              "    border-radius: 50%;\n",
              "    cursor: pointer;\n",
              "    display: none;\n",
              "    fill: var(--fill-color);\n",
              "    height: 32px;\n",
              "    padding: 0;\n",
              "    width: 32px;\n",
              "  }\n",
              "\n",
              "  .colab-df-quickchart:hover {\n",
              "    background-color: var(--hover-bg-color);\n",
              "    box-shadow: 0 1px 2px rgba(60, 64, 67, 0.3), 0 1px 3px 1px rgba(60, 64, 67, 0.15);\n",
              "    fill: var(--button-hover-fill-color);\n",
              "  }\n",
              "\n",
              "  .colab-df-quickchart-complete:disabled,\n",
              "  .colab-df-quickchart-complete:disabled:hover {\n",
              "    background-color: var(--disabled-bg-color);\n",
              "    fill: var(--disabled-fill-color);\n",
              "    box-shadow: none;\n",
              "  }\n",
              "\n",
              "  .colab-df-spinner {\n",
              "    border: 2px solid var(--fill-color);\n",
              "    border-color: transparent;\n",
              "    border-bottom-color: var(--fill-color);\n",
              "    animation:\n",
              "      spin 1s steps(1) infinite;\n",
              "  }\n",
              "\n",
              "  @keyframes spin {\n",
              "    0% {\n",
              "      border-color: transparent;\n",
              "      border-bottom-color: var(--fill-color);\n",
              "      border-left-color: var(--fill-color);\n",
              "    }\n",
              "    20% {\n",
              "      border-color: transparent;\n",
              "      border-left-color: var(--fill-color);\n",
              "      border-top-color: var(--fill-color);\n",
              "    }\n",
              "    30% {\n",
              "      border-color: transparent;\n",
              "      border-left-color: var(--fill-color);\n",
              "      border-top-color: var(--fill-color);\n",
              "      border-right-color: var(--fill-color);\n",
              "    }\n",
              "    40% {\n",
              "      border-color: transparent;\n",
              "      border-right-color: var(--fill-color);\n",
              "      border-top-color: var(--fill-color);\n",
              "    }\n",
              "    60% {\n",
              "      border-color: transparent;\n",
              "      border-right-color: var(--fill-color);\n",
              "    }\n",
              "    80% {\n",
              "      border-color: transparent;\n",
              "      border-right-color: var(--fill-color);\n",
              "      border-bottom-color: var(--fill-color);\n",
              "    }\n",
              "    90% {\n",
              "      border-color: transparent;\n",
              "      border-bottom-color: var(--fill-color);\n",
              "    }\n",
              "  }\n",
              "</style>\n",
              "\n",
              "      <script>\n",
              "        async function quickchart(key) {\n",
              "          const quickchartButtonEl =\n",
              "            document.querySelector('#' + key + ' button');\n",
              "          quickchartButtonEl.disabled = true;  // To prevent multiple clicks.\n",
              "          quickchartButtonEl.classList.add('colab-df-spinner');\n",
              "          try {\n",
              "            const charts = await google.colab.kernel.invokeFunction(\n",
              "                'suggestCharts', [key], {});\n",
              "          } catch (error) {\n",
              "            console.error('Error during call to suggestCharts:', error);\n",
              "          }\n",
              "          quickchartButtonEl.classList.remove('colab-df-spinner');\n",
              "          quickchartButtonEl.classList.add('colab-df-quickchart-complete');\n",
              "        }\n",
              "        (() => {\n",
              "          let quickchartButtonEl =\n",
              "            document.querySelector('#df-6c2a7444-af14-4acf-86e8-854c84a9b494 button');\n",
              "          quickchartButtonEl.style.display =\n",
              "            google.colab.kernel.accessAllowed ? 'block' : 'none';\n",
              "        })();\n",
              "      </script>\n",
              "    </div>\n",
              "\n",
              "    </div>\n",
              "  </div>\n"
            ],
            "application/vnd.google.colaboratory.intrinsic+json": {
              "type": "dataframe",
              "variable_name": "data_df"
            }
          },
          "metadata": {},
          "execution_count": 29
        }
      ],
      "source": [
        "data_df.head()"
      ]
    },
    {
      "cell_type": "markdown",
      "metadata": {
        "id": "3ldffQbpbirJ"
      },
      "source": [
        "É possível converter o *DataFrame* em um *array* NumPy usando o método `.to_numpy()`:"
      ]
    },
    {
      "cell_type": "code",
      "execution_count": 30,
      "metadata": {
        "id": "M4pqmqgibirK",
        "outputId": "905cd21e-33d0-4960-d3aa-6c77b0b31028",
        "colab": {
          "base_uri": "https://localhost:8080/"
        }
      },
      "outputs": [
        {
          "output_type": "execute_result",
          "data": {
            "text/plain": [
              "(1000, 401)"
            ]
          },
          "metadata": {},
          "execution_count": 30
        }
      ],
      "source": [
        "data = data_df.to_numpy()\n",
        "data_df.shape"
      ]
    },
    {
      "cell_type": "markdown",
      "metadata": {
        "id": "baKE3EARbirL"
      },
      "source": [
        "A matriz de dados tem 1000 linhas e 401 colunas. Cada linha se refere a um exemplo no banco de dados. As 400 primeiras colunas se referem aos elementos de uma matriz 20x20 com os dados referentes à digitalização de uma imagem de um círculo ou de um quadrado. A última coluna é um rótulo igual a -1 ou 1 indicando se a imagem se refere a um círculo ou a um quadrado.\n",
        "\n",
        "Você pode visualizar uma imagem, usando o método `.reshape()` para reorganizar os 400 coeficientes em uma matriz 20x20 e a função `imshow()` para exibí-la. Por exemplo, para exibir a imagem referente à primeira linha da matriz:"
      ]
    },
    {
      "cell_type": "code",
      "execution_count": 31,
      "metadata": {
        "id": "qIng4uiYbirL",
        "outputId": "c1c1c247-75bc-45bf-91a7-2b41e1025ce1",
        "colab": {
          "base_uri": "https://localhost:8080/",
          "height": 448
        }
      },
      "outputs": [
        {
          "output_type": "execute_result",
          "data": {
            "text/plain": [
              "<matplotlib.image.AxesImage at 0x7957382d4d10>"
            ]
          },
          "metadata": {},
          "execution_count": 31
        },
        {
          "output_type": "display_data",
          "data": {
            "text/plain": [
              "<Figure size 640x480 with 1 Axes>"
            ],
            "image/png": "[encoded data removed]"
          },
          "metadata": {}
        }
      ],
      "source": [
        "import matplotlib.pyplot as plt\n",
        "img = data[0, :-1].reshape((20,20))\n",
        "plt.imshow(img, cmap='gray')"
      ]
    },
    {
      "cell_type": "markdown",
      "metadata": {
        "id": "YcmaB11ubirL"
      },
      "source": [
        "O rótulo referente à imagem pode ser obtido com o elemento da última coluna:"
      ]
    },
    {
      "cell_type": "code",
      "execution_count": 32,
      "metadata": {
        "id": "0K4tAiRwbirM",
        "outputId": "9469b3a4-233b-4515-c65f-42f7a77c7b13",
        "colab": {
          "base_uri": "https://localhost:8080/"
        }
      },
      "outputs": [
        {
          "output_type": "execute_result",
          "data": {
            "text/plain": [
              "np.float64(-1.0)"
            ]
          },
          "metadata": {},
          "execution_count": 32
        }
      ],
      "source": [
        "data[0, 400]"
      ]
    },
    {
      "cell_type": "markdown",
      "metadata": {
        "id": "QY8lCxxMbirM"
      },
      "source": [
        "Como você pode observar, o rótulo igual a -1 é usado para identificar os círculos. Além disso, vale notar também que a resolução de 20x20 considerada na digitalização da figura do círculo causa uma distorção considerável. No entanto, vamos utilizar essa resolução baixa para reduzir a dimensionalidade do problema e tornar o treinamento mais rápido.\n",
        "\n",
        "A quinta linha da matriz (índice 4) representa um quadrado:"
      ]
    },
    {
      "cell_type": "code",
      "execution_count": 33,
      "metadata": {
        "id": "qB075rVgbirM",
        "outputId": "9efa9228-e0f3-4797-dba6-f1f6b5052c95",
        "colab": {
          "base_uri": "https://localhost:8080/",
          "height": 466
        }
      },
      "outputs": [
        {
          "output_type": "stream",
          "name": "stdout",
          "text": [
            "1.0\n"
          ]
        },
        {
          "output_type": "execute_result",
          "data": {
            "text/plain": [
              "<matplotlib.image.AxesImage at 0x795738259490>"
            ]
          },
          "metadata": {},
          "execution_count": 33
        },
        {
          "output_type": "display_data",
          "data": {
            "text/plain": [
              "<Figure size 640x480 with 1 Axes>"
            ],
            "image/png": "[encoded data removed]"
          },
          "metadata": {}
        }
      ],
      "source": [
        "img = data[4, :-1].reshape((20,20))\n",
        "print(data[4, -1])\n",
        "plt.imshow(img, cmap='gray')"
      ]
    },
    {
      "cell_type": "markdown",
      "metadata": {
        "id": "ELvM53mGbirM"
      },
      "source": [
        "Nos exercícios, você vai utilizar as 800 primeiras linhas do banco de dados para fazer o treinamento dos modelos, ajustando os valores dos pesos de forma iterativa e as 200 linhas finais para avaliar o desempenho na classificação de círculos e quadrados. Dessa forma, você pode separar os dados em uma matriz `Xd` para o treinamento e `Xd_test` para o teste:"
      ]
    },
    {
      "cell_type": "code",
      "execution_count": 34,
      "metadata": {
        "id": "-BdnwCrxbirM"
      },
      "outputs": [],
      "source": [
        "Xd = data[:800, :]\n",
        "Xd_test = data[800:, :]"
      ]
    },
    {
      "cell_type": "markdown",
      "metadata": {
        "id": "LuofjtTHbirN"
      },
      "source": [
        "# Exercício 1\n",
        "\n",
        "Implementar uma função para treinar o perceptron de Rosenblatt de forma iterativa, dados a matriz `Xd`, um passo de adaptação `eta`, o número de épocas `Ne` e o tamanho do *mini-batch* `Nb`. Após o treinamento, avalie o seu modelo com os dados dos conjuntos de treinamento e de teste, medindo a acurácia do classificador para ambos os casos. A escolha desses hiperparâmetros fica a seu critério, buscando obter um bom desempenho com os dados de teste."
      ]
    },
    {
      "cell_type": "markdown",
      "metadata": {
        "id": "PWxJer9DbirN"
      },
      "source": [
        "## Resolução"
      ]
    },
    {
      "cell_type": "code",
      "execution_count": 35,
      "metadata": {
        "id": "aCQ1sIhEbirN"
      },
      "outputs": [],
      "source": [
        "import numpy as np\n",
        "\n",
        "def Rosenblatt_minibatch(x, d, eta, Nt, Ne, Nb, dw):\n",
        "\n",
        "\n",
        "    M = x.shape[1]\n",
        "    Nmb = int(np.floor(Nt / Nb))\n",
        "\n",
        "    # Inicializa pesos (incluindo bias) de forma aleatória\n",
        "    W = np.random.uniform(-dw, dw, (Ne*Nmb+1, M + 1 ))\n",
        "\n",
        "    # Junta bias e saída desejada (para embaralhar juntos)\n",
        "    Xd = np.hstack((np.ones((Nt, 1)), x, d.reshape(-1, 1)))\n",
        "\n",
        "\n",
        "    # epocas\n",
        "    for k in range(Ne):\n",
        "        np.random.shuffle(Xd)\n",
        "        X_l = Xd[:, :-1]\n",
        "        D_l = Xd[:, -1].reshape(-1, 1)\n",
        "\n",
        "        # Mini-batches\n",
        "        for l in range(Nmb):\n",
        "            inicio = l * Nb\n",
        "            fim = inicio + Nb\n",
        "\n",
        "            xmb = X_l[inicio:fim, :]\n",
        "            dmb = D_l[inicio:fim, :]\n",
        "\n",
        "            m = k * Nmb + l\n",
        "            v = xmb @ W[m, :].reshape(-1,1)\n",
        "            y = np.heaviside(v,1)\n",
        "            y [y == 0] = -1\n",
        "\n",
        "            e = dmb - y\n",
        "            grad = (eta / Nb) * (e.T @ xmb)\n",
        "            W[m + 1, :] = W[m, :] + grad\n",
        "\n",
        "\n",
        "\n",
        "    return W\n"
      ]
    },
    {
      "cell_type": "code",
      "source": [
        "# Funcao taxa de erro\n",
        "def tx_erro(x, d, w):\n",
        "\n",
        "  d = d.reshape(-1,1)\n",
        "\n",
        "  # incluir 1 nos valores de X para o bias\n",
        "  X = np.hstack((np.ones((x.shape[0], 1)), x))\n",
        "  #print(\"\\nDimensao X\", X.shape)\n",
        "  v = X @ w.reshape(-1,1)\n",
        "  #print(\"\\nDimensao v\", v.shape)\n",
        "  y = np.heaviside(v,1)\n",
        "  y [y == 0] = -1\n",
        "  #print(\"\\nDimensao y\", y.shape)\n",
        "  #print(\"\\nUltimos 10 d\", d[-10:])\n",
        "  #print(\"\\nUltimos 10 y\", y[-10:])\n",
        "  erro = d - y\n",
        "  #print(\"\\nDimensao erro\", erro.shape)\n",
        "  tx_e = np.sum(np.abs(erro))/len(d)\n",
        "  #tx_e = np.mean(y != d)\n",
        "\n",
        "  return tx_e\n"
      ],
      "metadata": {
        "id": "XmRNH1hUrTbP"
      },
      "execution_count": 36,
      "outputs": []
    },
    {
      "cell_type": "code",
      "source": [
        "#############\n",
        "# Treinamento\n",
        "#############\n",
        "\n",
        "eta = 0.5\n",
        "Nb = 20\n",
        "Ne = 1200\n",
        "dw = 0.01\n",
        "\n",
        "# Linhas de treinamento\n",
        "Nt = 800\n",
        "\n",
        "#print(\"\\nParametros:\")\n",
        "#print(\"\\nDimensao Xd\", Xd.shape)\n",
        "\n",
        "# Rosenblatt_minibatch(x, d, eta, Nt, Ne, Nb, dw)\n",
        "W = Rosenblatt_minibatch(Xd[:,:-1], Xd[:,-1], eta, Nt, Ne, Nb, dw)\n",
        "\n",
        "Wfinal = W[-1]\n",
        "Wfinal = Wfinal.reshape(1,-1)\n",
        "#print(\"\\nWfinal_treinamento =\", Wfinal_treinamento )\n",
        "\n",
        "#############\n",
        "# Taxa de erro do treinamento\n",
        "#############\n",
        "\n",
        "# tx_erro(x, d, w)\n",
        "tx_er_treinamento = tx_erro(Xd[:, :-1], Xd[:,-1], Wfinal)\n",
        "#print(f\"\\nTaxa de erro de treinamento = {tx_er_treinamento:.2%}\")\n",
        "\n",
        "#############\n",
        "# Acuracia do treinamento\n",
        "#############\n",
        "tx_ac_treinamento = 1 - tx_er_treinamento\n",
        "\n",
        "print(f\"\\nAcuracia do treinamento = {tx_ac_treinamento:.2%}\")\n",
        "\n",
        "\n",
        "########################## ############################\n",
        "\n",
        "#############\n",
        "# Teste\n",
        "#############\n",
        "\n",
        "eta = 0.5\n",
        "Nb = 20\n",
        "Ne = 1200\n",
        "dw = 0.01\n",
        "\n",
        "# Linhas de teste\n",
        "Nt = 200\n",
        "\n",
        "#print(\"\\nParametros:\")\n",
        "#print(\"\\nDimensao Xd_test\", Xd_test.shape)\n",
        "\n",
        "# Rosenblatt_minibatch(x, d, eta, Nt, Ne, Nb, dw)\n",
        "W_t = Rosenblatt_minibatch(Xd_test[:,:-1], Xd_test[:,-1], eta, Nt, Ne, Nb, dw)\n",
        "\n",
        "Wfinal_t = W_t[-1]\n",
        "Wfinal_t = Wfinal_t.reshape(1,-1)\n",
        "#print(\"\\nWfinal_treinamento =\", Wfinal_treinamento )\n",
        "\n",
        "#############\n",
        "# Taxa de erro do teste\n",
        "#############\n",
        "\n",
        "# tx_erro(x, d, w)\n",
        "tx_er_teste = tx_erro(Xd_test[:, :-1], Xd_test[:,-1], Wfinal_t)\n",
        "#print(f\"\\nTaxa de erro de treinamento = {tx_er_treinamento:.2%}\")\n",
        "\n",
        "#############\n",
        "# Acuracia do teste\n",
        "#############\n",
        "tx_ac_teste = 1 - tx_er_teste\n",
        "\n",
        "print(f\"\\nAcuracia do teste = {tx_ac_teste:.2%}\")\n",
        "\n",
        "\n"
      ],
      "metadata": {
        "id": "_0SpsLM3eNgE",
        "outputId": "083a6076-fa63-4a30-f357-9a9112d70d87",
        "colab": {
          "base_uri": "https://localhost:8080/"
        }
      },
      "execution_count": 89,
      "outputs": [
        {
          "output_type": "stream",
          "name": "stdout",
          "text": [
            "\n",
            "Acuracia do treinamento = 100.00%\n",
            "\n",
            "Acuracia do teste = 100.00%\n"
          ]
        }
      ]
    },
    {
      "cell_type": "markdown",
      "metadata": {
        "id": "jhsjbKevbirN"
      },
      "source": [
        "# Exercício 2\n",
        "\n",
        "Repita o exercício 1, mas em vez de usar um modelo baseado no Perceptron de Rosenblatt, utilize um modelo baseado na regressão logística. Assim como no exercício anterior, implemente o algoritmo para treinar o modelo de forma iterativa, sem usar bibliotecas auxiliares com exceção do NumPy. Considere as seguintes funções custo:\n",
        "- Erro quadrático médio\n",
        "- Entropia cruzada"
      ]
    },
    {
      "cell_type": "markdown",
      "metadata": {
        "id": "3b1QvkfwbirO"
      },
      "source": [
        "## Resolução"
      ]
    },
    {
      "cell_type": "code",
      "execution_count": 72,
      "metadata": {
        "id": "z_M3XjU_birO"
      },
      "outputs": [],
      "source": [
        "# Funcao regressao logistica\n",
        "def regressao_logistica(x, d, eta, Nt, Ne, Nb, dw, custo='ent_cruzada'):\n",
        "\n",
        "  d = d.reshape(-1,1)\n",
        "\n",
        "  # converte d para o intervalo [0 1]\n",
        "  d = (d + 1) / 2\n",
        "\n",
        "  M = x.shape[1]\n",
        "  #X = np.hstack((np.ones((Nt, 1)), x))\n",
        "\n",
        "  Nmb = int(Nt/Nb)\n",
        "\n",
        "  #W = np.random.randn(M) * 0.01\n",
        "  #W = np.zeros((M + 1,1))\n",
        "  # inicialização dos pesos e bias com distribuição uniforme no invervalo [-dw, dw]\n",
        "  W = np.random.uniform(-dw, dw, (Ne*Nmb + 1, M+1))\n",
        "  X = np.hstack((np.ones((Nt, 1)), x, d))\n",
        "\n",
        "  # epocas\\n\",\n",
        "  for k in range(Ne):\n",
        "            # embaralha dados\n",
        "            np.random.shuffle(X)\n",
        "\n",
        "            # x e d organizados em X(l) e d(l)\n",
        "            X_l = X[:, :-1]\n",
        "            D_l = X[:, -1].reshape(-1, 1)\n",
        "\n",
        "            # mini-batches\\n\",\n",
        "            for l in range(Nmb):\n",
        "\n",
        "              # percorre os dados de Nb em Nb, Nmb vezes\n",
        "              inicio = l * Nb\n",
        "              fim = inicio + Nb\n",
        "\n",
        "              # coloca Nbx(Mb+1) elementos em X e Nbx1 em d\n",
        "              xmb = X_l[inicio:fim, :]\n",
        "              dmb = D_l[inicio:fim, :]\n",
        "\n",
        "\n",
        "              m = k * Nmb + l\n",
        "\n",
        "              # todas as entradas(X_l) do mimi-batch multiplicadas pelos coeficientes do mini-batch\n",
        "              # v = [Nb x (M+1)] x [M+1 x 1] = [Nb x 1]\n",
        "              #print(\"\\nDimensao xmb\", xmb.shape)\n",
        "              #print(\"\\nDimensao W[m, :]\", W[m, :].shape)\n",
        "              v = xmb @ W[m, :].reshape(-1,1)\n",
        "\n",
        "              y = sigmoid(v)\n",
        "              y = y.reshape(-1,1)\n",
        "\n",
        "              # erro no mini-batch\n",
        "              e = dmb - y\n",
        "              #print(\"\\nDimensao e\", e.shape)\n",
        "\n",
        "              if custo == 'mse':\n",
        "\n",
        "                grad = (eta / Nb) * (xmb.T @ (e * y * (1 - y)))    # HA\n",
        "              else:\n",
        "\n",
        "                grad = (eta / Nb) * (xmb.T @ e)   # HA\n",
        "\n",
        "              #W[[m + 1], :] =\n",
        "              W[m + 1, :] = W[m, :] + grad.reshape(1,-1)\n",
        "\n",
        "  return W\n",
        "\n",
        "\n",
        "\n",
        "# Funcao sigmoidal\n",
        "def sigmoid(v):\n",
        "    return 1 / (1 + np.exp(-v))\n",
        "\n",
        "\n"
      ]
    },
    {
      "cell_type": "code",
      "source": [
        "def tx_ac(x, d, w1):\n",
        "\n",
        "  d = d.reshape(-1,1)\n",
        "  w1 = w1.reshape(-1,1)\n",
        "\n",
        "  # incluir 1 nos valores de X para o bias\n",
        "  X = np.hstack((np.ones((x.shape[0], 1)), x))\n",
        "  #print(\"\\nDimensao X\", X.shape)\n",
        "  #print(\"\\nDimensao w1\", w1.shape)\n",
        "  v = X @ w1\n",
        "  #print(\"\\nDimensao v\", v.shape)\n",
        "  y = sigmoid(v)\n",
        "  # converter em -1 ou 1 a saida y\n",
        "  y = np.where(y >= 0.5, 1, -1)\n",
        "  erro = d - y\n",
        "\n",
        "  print(f\"\\nUltimos 10 valores de d \\n{d[-10:].T} \\ne de y \\n{y[-10:].T}\")\n",
        "\n",
        "  tx_ac = np.mean(y == d)\n",
        "  return tx_ac"
      ],
      "metadata": {
        "id": "qqPfKSo63ODU"
      },
      "execution_count": 70,
      "outputs": []
    },
    {
      "cell_type": "code",
      "source": [
        "#############\n",
        "# Treinamento\n",
        "#############\n",
        "\n",
        "eta = 0.5\n",
        "Nb = 80\n",
        "Ne = 8000\n",
        "dw = 0.01\n",
        "\n",
        "# Linhas de treinamento\n",
        "Nt = 800\n",
        "\n",
        "\n",
        "#print(\"\\nDimensao Xd\", Xd.shape)\n",
        "\n",
        "\n",
        "print(\"\\n######### Treinamento\")\n",
        "print(\"\\n######### Regressao Logistica\")\n",
        "print(\"\\n######### Custo : MSE\")\n",
        "\n",
        "\n",
        "# regressao_logistica(x, d, eta, Nt, Ne, custo='ent_cruzada')\n",
        "# W = Rosenblatt_minibatch(Xd[:,:-1], Xd[:,-1], eta, Nt, Ne, Nb, dw) usado no treinamento no modo Rosenblatt\n",
        "#W_reg_log = regressao_logistica(Xd[:,:-1], Xd[:,-1], eta, Nt, Ne, 'MSE')\n",
        "# regressao_logistica(x, d, eta, Nt, Ne, Nb, dw, custo='ent_cruzada'):\n",
        "W_reg_log = regressao_logistica(Xd[:,:-1], Xd[:,-1], eta, Nt, Ne, Nb, dw, 'mse')\n",
        "\n",
        "Wfinal_reg_log = W_reg_log[-1].reshape(-1,1)\n",
        "Wfinal_reg_log = Wfinal_reg_log\n",
        "print(\"\\nWfinal_reg_log =\", Wfinal_reg_log.shape )\n",
        "\n",
        "#############\n",
        "# Acuracia do treinamento\n",
        "#############\n",
        "\n",
        "# tx_erro(x, d, w)\n",
        "tx_ac_treinamento = tx_ac(Xd[:, :-1], Xd[:,-1].reshape(-1,1), Wfinal_reg_log.reshape(1,-1))\n",
        "#print(f\"\\nTaxa de erro de treinamento = {tx_er_treinamento:.2%}\")\n",
        "\n",
        "print(f\"\\nAcuracia do treinamento com custo MSE = {tx_ac_treinamento:.2%}\")\n",
        "\n",
        "print(\"\\n######### Treinamento\")\n",
        "print(\"\\n######### Regressao Logistica\")\n",
        "print(\"\\n######### Custo : Entropia Cruzada\")\n",
        "\n",
        "#######\n",
        "W_reg_log2 = regressao_logistica(Xd[:,:-1], Xd[:,-1], eta, Nt, Ne, Nb, dw, 'ent_cruzada')\n",
        "Wfinal_reg_log2 = W_reg_log2[-1]\n",
        "Wfinal_reg_log2 = Wfinal_reg_log2\n",
        "\n",
        "tx_ac_treinamento2 = tx_ac(Xd[:, :-1], Xd[:,-1].reshape(-1,1), Wfinal_reg_log2.reshape(1,-1))\n",
        "#print(f\"\\nTaxa de erro de treinamento = {tx_er_treinamento:.2%}\")\n",
        "\n",
        "print(f\"\\nAcuracia do treinamento com custo Entropia Cruzada = {tx_ac_treinamento2:.2%}\")"
      ],
      "metadata": {
        "colab": {
          "base_uri": "https://localhost:8080/"
        },
        "id": "LGPFlP9Q4Pd_",
        "outputId": "e9a032b3-1c52-4c51-a5d4-ebf966f15961"
      },
      "execution_count": 77,
      "outputs": [
        {
          "output_type": "stream",
          "name": "stdout",
          "text": [
            "\n",
            "######### Treinamento\n",
            "\n",
            "######### Regressao Logistica\n",
            "\n",
            "######### Custo : MSE\n",
            "\n",
            "Wfinal_reg_log = (401, 1)\n",
            "\n",
            "Ultimos 10 valores de d \n",
            "[[ 1.  1.  1. -1. -1.  1. -1.  1.  1. -1.]] \n",
            "e de y \n",
            "[[ 1  1  1 -1  1  1 -1  1  1 -1]]\n",
            "\n",
            "Acuracia do treinamento com custo MSE = 92.12%\n",
            "\n",
            "######### Treinamento\n",
            "\n",
            "######### Regressao Logistica\n",
            "\n",
            "######### Custo : Entropia Cruzada\n",
            "\n",
            "Ultimos 10 valores de d \n",
            "[[ 1.  1.  1. -1. -1.  1. -1.  1.  1. -1.]] \n",
            "e de y \n",
            "[[-1  1  1 -1 -1  1 -1  1  1 -1]]\n",
            "\n",
            "Acuracia do treinamento com custo Entropia Cruzada = 93.88%\n"
          ]
        }
      ]
    }
  ],
  "metadata": {
    "colab": {
      "provenance": [],
      "include_colab_link": true
    },
    "kernelspec": {
      "display_name": "Python 3 (ipykernel)",
      "language": "python",
      "name": "python3"
    },
    "language_info": {
      "codemirror_mode": {
        "name": "ipython",
        "version": 3
      },
      "file_extension": ".py",
      "mimetype": "text/x-python",
      "name": "python",
      "nbconvert_exporter": "python",
      "pygments_lexer": "ipython3",
      "version": "3.12.11"
    }
  },
  "nbformat": 4,
  "nbformat_minor": 0
}