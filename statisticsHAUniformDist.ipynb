{
  "nbformat": 4,
  "nbformat_minor": 0,
  "metadata": {
    "colab": {
      "provenance": [],
      "authorship_tag": "ABX9TyNmXSIWFyxq/zUuHzB7PoqM",
      "include_colab_link": true
    },
    "kernelspec": {
      "name": "python3",
      "display_name": "Python 3"
    },
    "language_info": {
      "name": "python"
    }
  },
  "cells": [
    {
      "cell_type": "markdown",
      "metadata": {
        "id": "view-in-github",
        "colab_type": "text"
      },
      "source": [
        "<a href=\"https://colab.research.google.com/github/heitorabqg/datascientist/blob/master/statisticsHAUniformDist.ipynb\" target=\"_parent\"><img src=\"https://colab.research.google.com/assets/colab-badge.svg\" alt=\"Open In Colab\"/></a>"
      ]
    },
    {
      "cell_type": "code",
      "execution_count": 8,
      "metadata": {
        "colab": {
          "base_uri": "https://localhost:8080/"
        },
        "id": "2QMZ-aoLjJ7B",
        "outputId": "e04679dd-1b3d-46da-a203-8fed6c753586"
      },
      "outputs": [
        {
          "output_type": "stream",
          "name": "stdout",
          "text": [
            "The values of f_k are \n",
            " [[0.125 0.125 0.125 0.125 0.125 0.125 0.125 0.125]]\n",
            "The values of x are\n",
            " [ 0  1  2  3  4  5  6  7  8  9 10 11 12 13 14 15 16 17 18 19 20]\n",
            "The values of f_z are \n",
            " [[0. 0. 0.]]\n"
          ]
        }
      ],
      "source": [
        "# Statistics\n",
        "# Heitor Albuquerque\n",
        "\n",
        "import numpy as np\n",
        "import matplotlib.pyplot as plt\n",
        "\n",
        "\n",
        "# Uniform Distribution\n",
        "\n",
        "# PMF : probability mass function\n",
        "# f_k [k] = 1/(n-m+1) , if m <= k <= n; 0 , otherwise\n",
        "\n",
        "# lets say m = 3 and n = 10\n",
        "m = 3\n",
        "n = 10\n",
        "c = 1/(n - m + 1)\n",
        "\n",
        "f_ku = np.ones(n-m+1)*c\n",
        "f_ku = f_ku.reshape(1,-1)\n",
        "print(\"The values of f_k are \\n\",f_k)\n",
        "\n",
        "# plot from 0 to L\n",
        "L = 20\n",
        "\n",
        "x = np.arange(0,L+1)\n",
        "x = x.reshape(1,-1)\n",
        "\n",
        "print(\"The values of x are\\n\", x)\n",
        "\n",
        "f_kz = np.zeros(m)\n",
        "f_kz = f_kz.reshape(1,-1)\n",
        "print(\"The values of f_z are \\n\",f_kz)\n",
        "\n"
      ]
    },
    {
      "cell_type": "code",
      "source": [],
      "metadata": {
        "id": "LelSKnp1vc-m"
      },
      "execution_count": null,
      "outputs": []
    }
  ]
}