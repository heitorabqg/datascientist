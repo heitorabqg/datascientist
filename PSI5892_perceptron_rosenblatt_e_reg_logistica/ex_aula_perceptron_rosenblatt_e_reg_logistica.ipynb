{
  "cells": [
    {
      "cell_type": "markdown",
      "metadata": {
        "id": "view-in-github",
        "colab_type": "text"
      },
      "source": [
        "<a href=\"https://colab.research.google.com/github/heitorabqg/datascientist/blob/master/PSI5892_perceptron_rosenblatt_e_reg_logistica/ex_aula_perceptron_rosenblatt_e_reg_logistica.ipynb\" target=\"_parent\"><img src=\"https://colab.research.google.com/assets/colab-badge.svg\" alt=\"Open In Colab\"/></a>"
      ]
    },
    {
      "cell_type": "markdown",
      "metadata": {
        "id": "gXems7TEBx-S"
      },
      "source": [
        "Para abrir o notebook no Google Colab, altere o domínio `github.com` para `githubtocolab.com`"
      ]
    },
    {
      "cell_type": "markdown",
      "metadata": {
        "id": "0aP9f8xsnkZj"
      },
      "source": [
        "<div class=\"alert alert-block alert-danger\">\n",
        "Para praticar programação, é importante que você erre, leia as mensagens de erro e tente corrigí-los.\n",
        "    \n",
        "Dessa forma, no Google Colab, é importante que você DESATIVE OS RECURSOS DE AUTOCOMPLETAR:\n",
        "\n",
        "- Menu Ferramentas -> Configurações\n",
        "- Na janela que é aberta:\n",
        "  - Seção Editor -> Desativar \"Mostrar sugestões de preenchimento de código com base no contexto\"\n",
        "  - Seção Assistência de IA -> Desabilitar itens\n",
        "\n",
        "Na versão em inglês:\n",
        "\n",
        "- Menu Tools -> Settings\n",
        "- Na janela que é aberta:\n",
        "  - Seção Editor -> Desativar \"Show context-powered code completions\"\n",
        "  - Seção AI Assistance -> Desabilitar itens\n",
        "</div>"
      ]
    },
    {
      "cell_type": "markdown",
      "metadata": {
        "id": "YONAgLYZB24h"
      },
      "source": [
        "# PSI5892 - Aula de Exercícios"
      ]
    },
    {
      "cell_type": "markdown",
      "metadata": {
        "id": "zPRGwQ33DzfZ"
      },
      "source": [
        "# Perceptron de Rosenblatt e Regressão Logística"
      ]
    },
    {
      "cell_type": "markdown",
      "metadata": {
        "id": "2Pvq_KPsnkZk"
      },
      "source": [
        "# Exercício 1"
      ]
    },
    {
      "cell_type": "markdown",
      "metadata": {
        "id": "kZsXgAv7CYKi"
      },
      "source": [
        "Neste exercício vamos utilizar o neurônio de Rosenblatt para implementar a função lógica AND.\n",
        "\n",
        "Iniciamos importando as bibliotecas necessárias para implementar o neurônio de Rosenblatt."
      ]
    },
    {
      "cell_type": "code",
      "execution_count": 90,
      "metadata": {
        "id": "bbXUGttSUecW"
      },
      "outputs": [],
      "source": [
        "import numpy as np\n",
        "import matplotlib.pyplot as plt"
      ]
    },
    {
      "cell_type": "markdown",
      "metadata": {
        "id": "j-YtmnIlCmV6"
      },
      "source": [
        "Vamos gerar os dados de treinamento do problema começando pelo AND."
      ]
    },
    {
      "cell_type": "markdown",
      "metadata": {
        "id": "7oXZxOupDzfb"
      },
      "source": [
        "<div class=\"alert alert-block alert-success\">\n",
        "Complete o código a seguir:\n",
        "</div>"
      ]
    },
    {
      "cell_type": "code",
      "execution_count": 91,
      "metadata": {
        "id": "HwDABZUlUecY"
      },
      "outputs": [],
      "source": [
        "Nt = 100  # número de pontos de treinamento\n",
        "\n",
        "#############\n",
        "# x deve ser uma matriz com Nt linhas e 2 colunas com valores 0 ou 1 aleatórios,\n",
        "# que pode ser gerada usando as funções np.round e np.random.uniform.\n",
        "# d deve ser um vetor coluna com Nt linhas contendo o resultado da função lógica\n",
        "# AND aplicada ao vetor x. Para isso use a função np.logical_and.\n",
        "# Note que a função np.logical_and devolve um vetor com elementos do tipo boolean.\n",
        "# Para transformar os elementos para o tipo inteiro, basta multiplicá-lo por 1\n",
        "# ou usar o método .astype(int)\n",
        "\n",
        "\n",
        "#x =\n",
        "x = np.round(np.random.uniform(0, 1, (Nt, 2)))\n",
        "\n",
        "#d = 1*()\n",
        "d = 1*(np.logical_and(x[:,0], x[:,1]))\n",
        "#############"
      ]
    },
    {
      "cell_type": "markdown",
      "metadata": {
        "id": "DdQnGc9XJJq7"
      },
      "source": [
        "A função a seguir implementa o neurônio de Rosenblatt no modo mini-batch. Modifique o programa do algoritmo LMS no modo mini- inserindo a função de ativação.\n",
        "Para obter 0 ou 1 na saída, deve-se usar a função degrau em vez da função sinal. Para isso, use a função `np.heaviside`.\n",
        "Uma outra modificação que deve ser considerada é a inicialização dos pesos e bias, que agora devem ser inicializados com valores aleatórios uniformemente distribuídos no intervalo [-dw, dw]."
      ]
    },
    {
      "cell_type": "markdown",
      "metadata": {
        "id": "wbN1OJVbDzfc"
      },
      "source": [
        "<div class=\"alert alert-block alert-success\">\n",
        "Complete o código a seguir:\n",
        "</div>"
      ]
    },
    {
      "cell_type": "code",
      "execution_count": 92,
      "metadata": {
        "id": "SsWVWo60aXxs"
      },
      "outputs": [],
      "source": [
        "def Rosenblatt_minibatch(x, d, eta, Nt, Ne, Nb, dw):\n",
        "    \"\"\"\n",
        "    W = Rosenblatt_minibatch(x, d, eta, Nt, Ne, Nb)\n",
        "    x: sinal de entrada\n",
        "    d: sinal desejado\n",
        "    eta: passo de adaptação\n",
        "    Nt: número de dados de treinamento\n",
        "    Ne: número de épocas\n",
        "    Nb: tamanho do mini-batch\n",
        "    dw: inicialização dos pesos e bias com distribuição uniforme no invervalo [-dw, dw]\n",
        "    \"\"\"\n",
        "    \"\"\"\n",
        "    Novamente, vamos juntar o sinal de entrada e o sinal desejado em um único vetor,\n",
        "    uma vez que a cada época vamos embaralhar os dados.\n",
        "    Ao fazer isso, já inserimos uma coluna de 1's para levar em conta o bias.\n",
        "    \"\"\"\n",
        "    #############\n",
        "\n",
        "    M = x.shape[1]\n",
        "    print(\"\\nValor de M\", M)\n",
        "    Nmb = int(np.floor(Nt / Nb))\n",
        "\n",
        "    # inicialização dos pesos e bias com distribuição uniforme no invervalo [-dw, dw]\n",
        "    W = np.random.uniform(-dw, dw, (Ne*Nmb + 1, 3))\n",
        "\n",
        "    # juntar o sinal de entrada e o sinal desejado em um único vetor e incluir 1s para o bias\n",
        "    Xd = np.hstack((np.ones((Nt, 1)), x, d))\n",
        "\n",
        "    # No modo mini-batch, o passo de adaptação é dividido por Nb\n",
        "    #eta = eta / Nb\n",
        "\n",
        "    # epocas\\n\",\n",
        "    for k in range(Ne):\n",
        "            # embaralha dados\n",
        "            np.random.shuffle(Xd)\n",
        "\n",
        "            # mini-batches\\n\",\n",
        "            for l in range(Nmb):\n",
        "\n",
        "              # batch = Xd[l:l+ Nmb]\n",
        "              batch = Xd[l:l+ Nmb]\n",
        "\n",
        "              #dmb =\n",
        "              dmb = batch[:, M+1].reshape(-1, 1)\n",
        "\n",
        "              #xmb =\n",
        "              xmb = batch[:, :M+1]\n",
        "\n",
        "              #m =\n",
        "              m = k * Nmb + l\n",
        "\n",
        "              #yb = xb @ W[step, :].reshape(-1, 1)\n",
        "              ymb = np.heaviside(xmb @ W[m,:].reshape(-1, 1), 1)\n",
        "\n",
        "              #emb =\n",
        "              emb = dmb - ymb\n",
        "\n",
        "              # gradiente com taxa ajustada\n",
        "              grad = (eta/Nb) * (emb.T @ xmb)\n",
        "\n",
        "              #W[[m + 1], :] =\n",
        "              W[m + 1, :] = W[m, :] + grad\n",
        "\n",
        "    return W\n",
        "\n",
        "\n",
        "\n"
      ]
    },
    {
      "cell_type": "code",
      "execution_count": 93,
      "metadata": {
        "id": "OQfbxggUUeca",
        "outputId": "c887f9cd-20a0-43e4-ec2a-d2d1d7a6bea4",
        "colab": {
          "base_uri": "https://localhost:8080/",
          "height": 418
        }
      },
      "outputs": [
        {
          "output_type": "stream",
          "name": "stdout",
          "text": [
            "\n",
            "Valor de M 2\n"
          ]
        },
        {
          "output_type": "error",
          "ename": "ValueError",
          "evalue": "all the input arrays must have same number of dimensions, but the array at index 0 has 2 dimension(s) and the array at index 2 has 1 dimension(s)",
          "traceback": [
            "\u001b[0;31m---------------------------------------------------------------------------\u001b[0m",
            "\u001b[0;31mValueError\u001b[0m                                Traceback (most recent call last)",
            "\u001b[0;32m/tmp/ipython-input-1360243124.py\u001b[0m in \u001b[0;36m<cell line: 0>\u001b[0;34m()\u001b[0m\n\u001b[1;32m     10\u001b[0m \u001b[0;34m\u001b[0m\u001b[0m\n\u001b[1;32m     11\u001b[0m \u001b[0;31m#############  Complete o código a seguir\u001b[0m\u001b[0;34m\u001b[0m\u001b[0;34m\u001b[0m\u001b[0m\n\u001b[0;32m---> 12\u001b[0;31m \u001b[0mW\u001b[0m \u001b[0;34m=\u001b[0m \u001b[0mRosenblatt_minibatch\u001b[0m\u001b[0;34m(\u001b[0m\u001b[0mx\u001b[0m\u001b[0;34m,\u001b[0m \u001b[0md\u001b[0m\u001b[0;34m,\u001b[0m \u001b[0meta\u001b[0m\u001b[0;34m,\u001b[0m \u001b[0mNt\u001b[0m\u001b[0;34m,\u001b[0m \u001b[0mNe\u001b[0m\u001b[0;34m,\u001b[0m \u001b[0mNb\u001b[0m\u001b[0;34m,\u001b[0m \u001b[0mdw\u001b[0m\u001b[0;34m)\u001b[0m\u001b[0;34m\u001b[0m\u001b[0;34m\u001b[0m\u001b[0m\n\u001b[0m\u001b[1;32m     13\u001b[0m \u001b[0;34m\u001b[0m\u001b[0m\n\u001b[1;32m     14\u001b[0m \u001b[0;31m# Wfinal deve ser os valores de pesos e bias da última iteração\u001b[0m\u001b[0;34m\u001b[0m\u001b[0;34m\u001b[0m\u001b[0m\n",
            "\u001b[0;32m/tmp/ipython-input-927855910.py\u001b[0m in \u001b[0;36mRosenblatt_minibatch\u001b[0;34m(x, d, eta, Nt, Ne, Nb, dw)\u001b[0m\n\u001b[1;32m     25\u001b[0m \u001b[0;34m\u001b[0m\u001b[0m\n\u001b[1;32m     26\u001b[0m     \u001b[0;31m# juntar o sinal de entrada e o sinal desejado em um único vetor e incluir 1s para o bias\u001b[0m\u001b[0;34m\u001b[0m\u001b[0;34m\u001b[0m\u001b[0m\n\u001b[0;32m---> 27\u001b[0;31m     \u001b[0mXd\u001b[0m \u001b[0;34m=\u001b[0m \u001b[0mnp\u001b[0m\u001b[0;34m.\u001b[0m\u001b[0mhstack\u001b[0m\u001b[0;34m(\u001b[0m\u001b[0;34m(\u001b[0m\u001b[0mnp\u001b[0m\u001b[0;34m.\u001b[0m\u001b[0mones\u001b[0m\u001b[0;34m(\u001b[0m\u001b[0;34m(\u001b[0m\u001b[0mNt\u001b[0m\u001b[0;34m,\u001b[0m \u001b[0;36m1\u001b[0m\u001b[0;34m)\u001b[0m\u001b[0;34m)\u001b[0m\u001b[0;34m,\u001b[0m \u001b[0mx\u001b[0m\u001b[0;34m,\u001b[0m \u001b[0md\u001b[0m\u001b[0;34m)\u001b[0m\u001b[0;34m)\u001b[0m\u001b[0;34m\u001b[0m\u001b[0;34m\u001b[0m\u001b[0m\n\u001b[0m\u001b[1;32m     28\u001b[0m \u001b[0;34m\u001b[0m\u001b[0m\n\u001b[1;32m     29\u001b[0m     \u001b[0;31m# No modo mini-batch, o passo de adaptação é dividido por Nb\u001b[0m\u001b[0;34m\u001b[0m\u001b[0;34m\u001b[0m\u001b[0m\n",
            "\u001b[0;32m/usr/local/lib/python3.12/dist-packages/numpy/_core/shape_base.py\u001b[0m in \u001b[0;36mhstack\u001b[0;34m(tup, dtype, casting)\u001b[0m\n\u001b[1;32m    356\u001b[0m         \u001b[0;32mreturn\u001b[0m \u001b[0m_nx\u001b[0m\u001b[0;34m.\u001b[0m\u001b[0mconcatenate\u001b[0m\u001b[0;34m(\u001b[0m\u001b[0marrs\u001b[0m\u001b[0;34m,\u001b[0m \u001b[0;36m0\u001b[0m\u001b[0;34m,\u001b[0m \u001b[0mdtype\u001b[0m\u001b[0;34m=\u001b[0m\u001b[0mdtype\u001b[0m\u001b[0;34m,\u001b[0m \u001b[0mcasting\u001b[0m\u001b[0;34m=\u001b[0m\u001b[0mcasting\u001b[0m\u001b[0;34m)\u001b[0m\u001b[0;34m\u001b[0m\u001b[0;34m\u001b[0m\u001b[0m\n\u001b[1;32m    357\u001b[0m     \u001b[0;32melse\u001b[0m\u001b[0;34m:\u001b[0m\u001b[0;34m\u001b[0m\u001b[0;34m\u001b[0m\u001b[0m\n\u001b[0;32m--> 358\u001b[0;31m         \u001b[0;32mreturn\u001b[0m \u001b[0m_nx\u001b[0m\u001b[0;34m.\u001b[0m\u001b[0mconcatenate\u001b[0m\u001b[0;34m(\u001b[0m\u001b[0marrs\u001b[0m\u001b[0;34m,\u001b[0m \u001b[0;36m1\u001b[0m\u001b[0;34m,\u001b[0m \u001b[0mdtype\u001b[0m\u001b[0;34m=\u001b[0m\u001b[0mdtype\u001b[0m\u001b[0;34m,\u001b[0m \u001b[0mcasting\u001b[0m\u001b[0;34m=\u001b[0m\u001b[0mcasting\u001b[0m\u001b[0;34m)\u001b[0m\u001b[0;34m\u001b[0m\u001b[0;34m\u001b[0m\u001b[0m\n\u001b[0m\u001b[1;32m    359\u001b[0m \u001b[0;34m\u001b[0m\u001b[0m\n\u001b[1;32m    360\u001b[0m \u001b[0;34m\u001b[0m\u001b[0m\n",
            "\u001b[0;31mValueError\u001b[0m: all the input arrays must have same number of dimensions, but the array at index 0 has 2 dimension(s) and the array at index 2 has 1 dimension(s)"
          ]
        }
      ],
      "source": [
        "eta = 0.5  # passo de adaptação do algoritmo de Rosenblatt\n",
        "Nb = 20\n",
        "Ne = 100\n",
        "dw = 2\n",
        "\n",
        "#print(\"\\nDimensão de x\", x.shape)\n",
        "#print(\"\\nDimensão de d\", d.shape)\n",
        "\n",
        "\n",
        "\n",
        "#############  Complete o código a seguir\n",
        "W = Rosenblatt_minibatch(x, d, eta, Nt, Ne, Nb, dw)\n",
        "\n",
        "# Wfinal deve ser os valores de pesos e bias da última iteração\n",
        "Wfinal = W[-1]\n",
        "print(Wfinal)\n",
        "#############"
      ]
    },
    {
      "cell_type": "markdown",
      "metadata": {
        "id": "2-LsVdceDzfc"
      },
      "source": [
        "<div class=\"alert alert-block alert-success\">\n",
        "Complete o código a seguir:\n",
        "</div>"
      ]
    },
    {
      "cell_type": "code",
      "execution_count": null,
      "metadata": {
        "id": "ng4gDTrILTVT"
      },
      "outputs": [],
      "source": [
        "# Gere um gráfico para mostrar os pesos e bias ao longo das iterações\n",
        "\n",
        "#plt.plot(W, \"k\", label=\"W\")\n",
        "plt.plot(W[:,0], linestyle='solid', label='bias', color='c')\n",
        "plt.plot(W[:,1], linestyle='solid', label='w1', color='k')\n",
        "plt.plot(W[:,2], linestyle='solid', label='w2', color='b')\n",
        "\n",
        "plt.xlabel(\"iterações\")\n",
        "plt.ylabel(\"pesos\")\n",
        "plt.legend()\n",
        "plt.title(\n",
        "    \"pesos e bias ao longo das iterações\"\n",
        ")"
      ]
    },
    {
      "cell_type": "markdown",
      "metadata": {
        "id": "uASv_CQIDzfd"
      },
      "source": [
        "<div class=\"alert alert-block alert-success\">\n",
        "Complete o código a seguir:\n",
        "</div>"
      ]
    },
    {
      "cell_type": "code",
      "execution_count": null,
      "metadata": {
        "id": "RNKpIjMzUecb"
      },
      "outputs": [],
      "source": [
        "# Gere os dados de teste, calcule a taxa de erro e gere a reta de separação das\n",
        "# regiões, mostrando em um mesmo gráfico a reta e os dados de teste classificados.\n",
        "# Comente o resultado, explicando se é possível utilizar o neurônio de Rosenblatt\n",
        "# para implementar esta função lógica.\n",
        "\n",
        "#############\n",
        "# geração de dados de teste\n",
        "#############\n",
        "\n",
        "# número de pontos de teste\n",
        "Nteste = 100\n",
        "\n",
        "#x_teste\n",
        "x_teste = np.round(np.random.uniform(0, 1, (Nteste, 2)))\n",
        "\n",
        "#d_teste\n",
        "d_teste = 1*(np.logical_and(x_teste[:,0], x_teste[:,1]))\n",
        "\n",
        "\n",
        "#############\n",
        "# calculo da taxa de erro\n",
        "#############\n",
        "\n",
        "\n",
        "\"\"\"\n",
        "    classif     funcao classifica\n",
        "    W           coeficientes\n",
        "    x_in        vetor de entrada\n",
        "\"\"\"\n",
        "def classif(W, x_in):\n",
        "    W = W.reshape(1,-1)\n",
        "\n",
        "    x_in.reshape(-1,len(W))\n",
        "    y = x_bias @ W.T\n",
        "\n",
        "    y_class = np.where(y >= 0, 1, -1)\n",
        "    return y_class\n",
        "\n",
        "\"\"\"\n",
        "    tx_e_classif  funcao estima taxa de erro de classificacao\n",
        "    d             label da classificação\n",
        "    y_class       classificação usando os coeficientes\n",
        "\"\"\"\n",
        "\n",
        "\n",
        "def tx_e_classif(d, y_class):\n",
        "    erros = np.sum(d.reshape(-1, 1) != y_class)\n",
        "    return erros / len(d)\n",
        "\n",
        "\n",
        "y_class_ha = classif(We[-1], xteste)\n",
        "Taxa_de_erro = tx_e_classif(dteste, y_class_ha)\n",
        "\n",
        "\n",
        "\n",
        "print(f\"Taxa de erro: {Taxa_de_erro:.2%}\")"
      ]
    },
    {
      "cell_type": "markdown",
      "metadata": {
        "id": "15D9V02hnkZn"
      },
      "source": [
        "# Exercício 2\n",
        "\n",
        "Repita o exercício anterior considerando as portas lógicas OR e o XOR.\n",
        "\n",
        "## Resolução"
      ]
    },
    {
      "cell_type": "code",
      "execution_count": null,
      "metadata": {
        "id": "r8HORzKlnkZn"
      },
      "outputs": [],
      "source": []
    },
    {
      "cell_type": "markdown",
      "metadata": {
        "id": "XeJywTzrnkZn"
      },
      "source": [
        "# Exercício 3\n",
        "\n",
        "Repita o exercício para as portas lógicas AND, OR e XOR considerando a otimização do modelo utilizando a regressão logística com as seguintes funções custo:\n",
        "- Erro quadrático médio\n",
        "- Entropia cruzada\n",
        "\n",
        "## Resolução"
      ]
    },
    {
      "cell_type": "code",
      "execution_count": null,
      "metadata": {
        "id": "g4xgyIjUnkZo"
      },
      "outputs": [],
      "source": []
    }
  ],
  "metadata": {
    "colab": {
      "provenance": [],
      "include_colab_link": true
    },
    "kernelspec": {
      "display_name": "Python 3 (ipykernel)",
      "language": "python",
      "name": "python3"
    },
    "language_info": {
      "codemirror_mode": {
        "name": "ipython",
        "version": 3
      },
      "file_extension": ".py",
      "mimetype": "text/x-python",
      "name": "python",
      "nbconvert_exporter": "python",
      "pygments_lexer": "ipython3",
      "version": "3.12.11"
    }
  },
  "nbformat": 4,
  "nbformat_minor": 0
}